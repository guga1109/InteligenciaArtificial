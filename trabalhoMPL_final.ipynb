{
 "cells": [
  {
   "cell_type": "markdown",
   "id": "9130f92e-dd6a-452e-a28f-9bbdcf686c5f",
   "metadata": {},
   "source": [
    "# Importando bibliotecas"
   ]
  },
  {
   "cell_type": "code",
   "execution_count": 1,
   "id": "71ebeb4f-0f1b-4cd6-99df-b3f7f0edc4fc",
   "metadata": {},
   "outputs": [],
   "source": [
    "from collections import deque\n",
    "import matplotlib.pyplot as plt\n",
    "import numpy as np\n",
    "import pandas as pd\n",
    "import seaborn as sb\n",
    "from sklearn.preprocessing import StandardScaler\n",
    "from sklearn.model_selection import train_test_split\n",
    "\n",
    "%matplotlib inline"
   ]
  },
  {
   "cell_type": "markdown",
   "id": "6fa84e99-5460-44fb-b6b5-c289a58bda9f",
   "metadata": {},
   "source": [
    "# Carregando o _dataset_"
   ]
  },
  {
   "cell_type": "code",
   "execution_count": 2,
   "id": "980277b9-34f8-4fa0-9afe-9dff08cb4632",
   "metadata": {},
   "outputs": [
    {
     "data": {
      "text/html": [
       "<div>\n",
       "<style scoped>\n",
       "    .dataframe tbody tr th:only-of-type {\n",
       "        vertical-align: middle;\n",
       "    }\n",
       "\n",
       "    .dataframe tbody tr th {\n",
       "        vertical-align: top;\n",
       "    }\n",
       "\n",
       "    .dataframe thead th {\n",
       "        text-align: right;\n",
       "    }\n",
       "</style>\n",
       "<table border=\"1\" class=\"dataframe\">\n",
       "  <thead>\n",
       "    <tr style=\"text-align: right;\">\n",
       "      <th></th>\n",
       "      <th>Hora</th>\n",
       "      <th>Tamanho</th>\n",
       "      <th>Referencia</th>\n",
       "      <th>NumAmostra</th>\n",
       "      <th>Area</th>\n",
       "      <th>Delta</th>\n",
       "      <th>Output1</th>\n",
       "      <th>Output2</th>\n",
       "    </tr>\n",
       "  </thead>\n",
       "  <tbody>\n",
       "    <tr>\n",
       "      <th>0</th>\n",
       "      <td>13:00:06</td>\n",
       "      <td>53</td>\n",
       "      <td>25</td>\n",
       "      <td>69</td>\n",
       "      <td>81</td>\n",
       "      <td>68</td>\n",
       "      <td>1</td>\n",
       "      <td>0</td>\n",
       "    </tr>\n",
       "    <tr>\n",
       "      <th>1</th>\n",
       "      <td>13:00:07</td>\n",
       "      <td>53</td>\n",
       "      <td>26</td>\n",
       "      <td>89</td>\n",
       "      <td>87</td>\n",
       "      <td>56</td>\n",
       "      <td>1</td>\n",
       "      <td>0</td>\n",
       "    </tr>\n",
       "    <tr>\n",
       "      <th>2</th>\n",
       "      <td>13:00:08</td>\n",
       "      <td>53</td>\n",
       "      <td>27</td>\n",
       "      <td>68</td>\n",
       "      <td>69</td>\n",
       "      <td>55</td>\n",
       "      <td>1</td>\n",
       "      <td>0</td>\n",
       "    </tr>\n",
       "    <tr>\n",
       "      <th>3</th>\n",
       "      <td>13:00:09</td>\n",
       "      <td>53</td>\n",
       "      <td>28</td>\n",
       "      <td>36</td>\n",
       "      <td>50</td>\n",
       "      <td>80</td>\n",
       "      <td>1</td>\n",
       "      <td>0</td>\n",
       "    </tr>\n",
       "    <tr>\n",
       "      <th>4</th>\n",
       "      <td>13:00:10</td>\n",
       "      <td>53</td>\n",
       "      <td>29</td>\n",
       "      <td>71</td>\n",
       "      <td>72</td>\n",
       "      <td>50</td>\n",
       "      <td>1</td>\n",
       "      <td>0</td>\n",
       "    </tr>\n",
       "  </tbody>\n",
       "</table>\n",
       "</div>"
      ],
      "text/plain": [
       "       Hora  Tamanho  Referencia  NumAmostra  Area  Delta  Output1  Output2\n",
       "0  13:00:06       53          25          69    81     68        1        0\n",
       "1  13:00:07       53          26          89    87     56        1        0\n",
       "2  13:00:08       53          27          68    69     55        1        0\n",
       "3  13:00:09       53          28          36    50     80        1        0\n",
       "4  13:00:10       53          29          71    72     50        1        0"
      ]
     },
     "execution_count": 2,
     "metadata": {},
     "output_type": "execute_result"
    }
   ],
   "source": [
    "dataset = pd.read_csv(\"arruela_.csv\")\n",
    "dataset.head()"
   ]
  },
  {
   "cell_type": "markdown",
   "id": "4c24327d-53f6-40b1-b0cd-60c08333a389",
   "metadata": {},
   "source": [
    "## Obtendo informações sobre o _dataset_"
   ]
  },
  {
   "cell_type": "code",
   "execution_count": 3,
   "id": "ff98001e-f1f6-4a2c-9ffe-5f59a0ccf003",
   "metadata": {},
   "outputs": [
    {
     "data": {
      "text/html": [
       "<div>\n",
       "<style scoped>\n",
       "    .dataframe tbody tr th:only-of-type {\n",
       "        vertical-align: middle;\n",
       "    }\n",
       "\n",
       "    .dataframe tbody tr th {\n",
       "        vertical-align: top;\n",
       "    }\n",
       "\n",
       "    .dataframe thead th {\n",
       "        text-align: right;\n",
       "    }\n",
       "</style>\n",
       "<table border=\"1\" class=\"dataframe\">\n",
       "  <thead>\n",
       "    <tr style=\"text-align: right;\">\n",
       "      <th></th>\n",
       "      <th>Tamanho</th>\n",
       "      <th>Referencia</th>\n",
       "      <th>NumAmostra</th>\n",
       "      <th>Area</th>\n",
       "      <th>Delta</th>\n",
       "      <th>Output1</th>\n",
       "      <th>Output2</th>\n",
       "    </tr>\n",
       "  </thead>\n",
       "  <tbody>\n",
       "    <tr>\n",
       "      <th>count</th>\n",
       "      <td>261.000000</td>\n",
       "      <td>261.000000</td>\n",
       "      <td>261.000000</td>\n",
       "      <td>261.000000</td>\n",
       "      <td>261.000000</td>\n",
       "      <td>261.000000</td>\n",
       "      <td>261.000000</td>\n",
       "    </tr>\n",
       "    <tr>\n",
       "      <th>mean</th>\n",
       "      <td>53.126437</td>\n",
       "      <td>58.310345</td>\n",
       "      <td>59.777778</td>\n",
       "      <td>63.697318</td>\n",
       "      <td>54.747126</td>\n",
       "      <td>0.375479</td>\n",
       "      <td>0.624521</td>\n",
       "    </tr>\n",
       "    <tr>\n",
       "      <th>std</th>\n",
       "      <td>1.174779</td>\n",
       "      <td>9.199888</td>\n",
       "      <td>17.293075</td>\n",
       "      <td>30.629366</td>\n",
       "      <td>35.548413</td>\n",
       "      <td>0.485177</td>\n",
       "      <td>0.485177</td>\n",
       "    </tr>\n",
       "    <tr>\n",
       "      <th>min</th>\n",
       "      <td>53.000000</td>\n",
       "      <td>25.000000</td>\n",
       "      <td>3.000000</td>\n",
       "      <td>6.000000</td>\n",
       "      <td>17.000000</td>\n",
       "      <td>0.000000</td>\n",
       "      <td>0.000000</td>\n",
       "    </tr>\n",
       "    <tr>\n",
       "      <th>25%</th>\n",
       "      <td>53.000000</td>\n",
       "      <td>54.000000</td>\n",
       "      <td>50.000000</td>\n",
       "      <td>46.000000</td>\n",
       "      <td>38.000000</td>\n",
       "      <td>0.000000</td>\n",
       "      <td>0.000000</td>\n",
       "    </tr>\n",
       "    <tr>\n",
       "      <th>50%</th>\n",
       "      <td>53.000000</td>\n",
       "      <td>64.000000</td>\n",
       "      <td>59.000000</td>\n",
       "      <td>56.000000</td>\n",
       "      <td>44.000000</td>\n",
       "      <td>0.000000</td>\n",
       "      <td>1.000000</td>\n",
       "    </tr>\n",
       "    <tr>\n",
       "      <th>75%</th>\n",
       "      <td>53.000000</td>\n",
       "      <td>64.000000</td>\n",
       "      <td>69.000000</td>\n",
       "      <td>68.000000</td>\n",
       "      <td>54.000000</td>\n",
       "      <td>1.000000</td>\n",
       "      <td>1.000000</td>\n",
       "    </tr>\n",
       "    <tr>\n",
       "      <th>max</th>\n",
       "      <td>64.000000</td>\n",
       "      <td>64.000000</td>\n",
       "      <td>120.000000</td>\n",
       "      <td>201.000000</td>\n",
       "      <td>251.000000</td>\n",
       "      <td>1.000000</td>\n",
       "      <td>1.000000</td>\n",
       "    </tr>\n",
       "  </tbody>\n",
       "</table>\n",
       "</div>"
      ],
      "text/plain": [
       "          Tamanho  Referencia  NumAmostra        Area       Delta     Output1  \\\n",
       "count  261.000000  261.000000  261.000000  261.000000  261.000000  261.000000   \n",
       "mean    53.126437   58.310345   59.777778   63.697318   54.747126    0.375479   \n",
       "std      1.174779    9.199888   17.293075   30.629366   35.548413    0.485177   \n",
       "min     53.000000   25.000000    3.000000    6.000000   17.000000    0.000000   \n",
       "25%     53.000000   54.000000   50.000000   46.000000   38.000000    0.000000   \n",
       "50%     53.000000   64.000000   59.000000   56.000000   44.000000    0.000000   \n",
       "75%     53.000000   64.000000   69.000000   68.000000   54.000000    1.000000   \n",
       "max     64.000000   64.000000  120.000000  201.000000  251.000000    1.000000   \n",
       "\n",
       "          Output2  \n",
       "count  261.000000  \n",
       "mean     0.624521  \n",
       "std      0.485177  \n",
       "min      0.000000  \n",
       "25%      0.000000  \n",
       "50%      1.000000  \n",
       "75%      1.000000  \n",
       "max      1.000000  "
      ]
     },
     "execution_count": 3,
     "metadata": {},
     "output_type": "execute_result"
    }
   ],
   "source": [
    "dataset.describe()"
   ]
  },
  {
   "cell_type": "markdown",
   "id": "1758ffa2-487f-46c3-9e70-e2ef69c8671c",
   "metadata": {},
   "source": [
    "## Retirando colunas desnecessárias"
   ]
  },
  {
   "cell_type": "code",
   "execution_count": 4,
   "id": "901195b7-dbbf-427b-bc1f-520a7897c5f1",
   "metadata": {},
   "outputs": [
    {
     "data": {
      "text/html": [
       "<div>\n",
       "<style scoped>\n",
       "    .dataframe tbody tr th:only-of-type {\n",
       "        vertical-align: middle;\n",
       "    }\n",
       "\n",
       "    .dataframe tbody tr th {\n",
       "        vertical-align: top;\n",
       "    }\n",
       "\n",
       "    .dataframe thead th {\n",
       "        text-align: right;\n",
       "    }\n",
       "</style>\n",
       "<table border=\"1\" class=\"dataframe\">\n",
       "  <thead>\n",
       "    <tr style=\"text-align: right;\">\n",
       "      <th></th>\n",
       "      <th>NumAmostra</th>\n",
       "      <th>Area</th>\n",
       "      <th>Delta</th>\n",
       "      <th>Output1</th>\n",
       "      <th>Output2</th>\n",
       "    </tr>\n",
       "  </thead>\n",
       "  <tbody>\n",
       "    <tr>\n",
       "      <th>0</th>\n",
       "      <td>69</td>\n",
       "      <td>81</td>\n",
       "      <td>68</td>\n",
       "      <td>1</td>\n",
       "      <td>0</td>\n",
       "    </tr>\n",
       "    <tr>\n",
       "      <th>1</th>\n",
       "      <td>89</td>\n",
       "      <td>87</td>\n",
       "      <td>56</td>\n",
       "      <td>1</td>\n",
       "      <td>0</td>\n",
       "    </tr>\n",
       "    <tr>\n",
       "      <th>2</th>\n",
       "      <td>68</td>\n",
       "      <td>69</td>\n",
       "      <td>55</td>\n",
       "      <td>1</td>\n",
       "      <td>0</td>\n",
       "    </tr>\n",
       "    <tr>\n",
       "      <th>3</th>\n",
       "      <td>36</td>\n",
       "      <td>50</td>\n",
       "      <td>80</td>\n",
       "      <td>1</td>\n",
       "      <td>0</td>\n",
       "    </tr>\n",
       "    <tr>\n",
       "      <th>4</th>\n",
       "      <td>71</td>\n",
       "      <td>72</td>\n",
       "      <td>50</td>\n",
       "      <td>1</td>\n",
       "      <td>0</td>\n",
       "    </tr>\n",
       "  </tbody>\n",
       "</table>\n",
       "</div>"
      ],
      "text/plain": [
       "   NumAmostra  Area  Delta  Output1  Output2\n",
       "0          69    81     68        1        0\n",
       "1          89    87     56        1        0\n",
       "2          68    69     55        1        0\n",
       "3          36    50     80        1        0\n",
       "4          71    72     50        1        0"
      ]
     },
     "execution_count": 4,
     "metadata": {},
     "output_type": "execute_result"
    }
   ],
   "source": [
    "dataset.drop([\"Hora\", \"Tamanho\", \"Referencia\"], axis=1, inplace=True)\n",
    "dataset.head()"
   ]
  },
  {
   "cell_type": "markdown",
   "id": "62b12483-e051-4734-a401-a6c597266185",
   "metadata": {},
   "source": [
    "# Separando o _dataset_ em `X` e `y`"
   ]
  },
  {
   "cell_type": "code",
   "execution_count": 5,
   "id": "dd617ab5-c33c-44d2-b023-c98820ce9f34",
   "metadata": {},
   "outputs": [],
   "source": [
    "X_cols = [\"NumAmostra\", \"Delta\", \"Area\"]\n",
    "y_cols = [\"Output1\", \"Output2\"]\n",
    "\n",
    "X = dataset[X_cols]\n",
    "y = dataset[y_cols]"
   ]
  },
  {
   "cell_type": "markdown",
   "id": "62a79511-87b4-4baf-871e-0c6ef7a4e9ab",
   "metadata": {},
   "source": [
    "# Normalização do _dataset_\n",
    "\n",
    "- Como as variáveis de saída já são discretas (0 ou 1), não é necessário normalizá-las"
   ]
  },
  {
   "cell_type": "code",
   "execution_count": 6,
   "id": "245980bb-3f07-4200-8142-5445d36dd5c2",
   "metadata": {},
   "outputs": [
    {
     "data": {
      "text/html": [
       "<div>\n",
       "<style scoped>\n",
       "    .dataframe tbody tr th:only-of-type {\n",
       "        vertical-align: middle;\n",
       "    }\n",
       "\n",
       "    .dataframe tbody tr th {\n",
       "        vertical-align: top;\n",
       "    }\n",
       "\n",
       "    .dataframe thead th {\n",
       "        text-align: right;\n",
       "    }\n",
       "</style>\n",
       "<table border=\"1\" class=\"dataframe\">\n",
       "  <thead>\n",
       "    <tr style=\"text-align: right;\">\n",
       "      <th></th>\n",
       "      <th>NumAmostra</th>\n",
       "      <th>Delta</th>\n",
       "      <th>Area</th>\n",
       "    </tr>\n",
       "  </thead>\n",
       "  <tbody>\n",
       "    <tr>\n",
       "      <th>0</th>\n",
       "      <td>0.534314</td>\n",
       "      <td>0.373528</td>\n",
       "      <td>0.565990</td>\n",
       "    </tr>\n",
       "    <tr>\n",
       "      <th>1</th>\n",
       "      <td>1.693069</td>\n",
       "      <td>0.035312</td>\n",
       "      <td>0.762257</td>\n",
       "    </tr>\n",
       "    <tr>\n",
       "      <th>2</th>\n",
       "      <td>0.476377</td>\n",
       "      <td>0.007127</td>\n",
       "      <td>0.173457</td>\n",
       "    </tr>\n",
       "    <tr>\n",
       "      <th>3</th>\n",
       "      <td>-1.377630</td>\n",
       "      <td>0.711745</td>\n",
       "      <td>-0.448055</td>\n",
       "    </tr>\n",
       "    <tr>\n",
       "      <th>4</th>\n",
       "      <td>0.650190</td>\n",
       "      <td>-0.133796</td>\n",
       "      <td>0.271590</td>\n",
       "    </tr>\n",
       "  </tbody>\n",
       "</table>\n",
       "</div>"
      ],
      "text/plain": [
       "   NumAmostra     Delta      Area\n",
       "0    0.534314  0.373528  0.565990\n",
       "1    1.693069  0.035312  0.762257\n",
       "2    0.476377  0.007127  0.173457\n",
       "3   -1.377630  0.711745 -0.448055\n",
       "4    0.650190 -0.133796  0.271590"
      ]
     },
     "execution_count": 6,
     "metadata": {},
     "output_type": "execute_result"
    }
   ],
   "source": [
    "sscaler = StandardScaler()\n",
    "X = sscaler.fit_transform(X)\n",
    "X = pd.DataFrame(X, columns=X_cols)\n",
    "X.head()"
   ]
  },
  {
   "cell_type": "markdown",
   "id": "9628b8cd-fe54-4eac-baa8-28fd3b2f6c14",
   "metadata": {},
   "source": [
    "# Segmentando em _dataset_ de treino e teste"
   ]
  },
  {
   "cell_type": "code",
   "execution_count": 7,
   "id": "ad4d0d16-cec4-4b13-a012-48b33a730b0d",
   "metadata": {},
   "outputs": [],
   "source": [
    "X_train, X_test, y_train, y_test = train_test_split(X, y, test_size=0.33, random_state=64)"
   ]
  },
  {
   "cell_type": "markdown",
   "id": "f2557a2f-c5a9-498f-8286-9c9470a120d1",
   "metadata": {},
   "source": [
    "# Construindo a rede neural"
   ]
  },
  {
   "cell_type": "code",
   "execution_count": 8,
   "id": "343e033f-da49-4b49-87b0-e75f57786baa",
   "metadata": {},
   "outputs": [],
   "source": [
    "# função de ativação\n",
    "\n",
    "sigmoid = lambda x: 1/(1+np.exp(-x))\n",
    "\n",
    "# tamanho do dataset de treinamento\n",
    "\n",
    "n_records, n_features = X_train.shape\n",
    "_, n_outputs = y_train.shape\n",
    "\n",
    "# camadas e neurônios\n",
    "\n",
    "layers = [n_features, 10, n_outputs]\n",
    "\n",
    "# taxa de aprendizado\n",
    "\n",
    "lr = 0.1"
   ]
  },
  {
   "cell_type": "markdown",
   "id": "52f34a40-b3d8-49f0-ab0e-1d5b25cee927",
   "metadata": {},
   "source": [
    "# Inicializando os pesos da rede"
   ]
  },
  {
   "cell_type": "code",
   "execution_count": 9,
   "id": "469b2282-cf1a-498a-b8fd-2efba1f787f2",
   "metadata": {},
   "outputs": [],
   "source": [
    "weights = []\n",
    "for i, lay in enumerate(layers[:-1]):\n",
    "    w = np.random.normal(0, scale=0.1, size=(lay, layers[i+1]))\n",
    "    weights.append(w.copy())"
   ]
  },
  {
   "cell_type": "markdown",
   "id": "3d08dde9-c34e-4c72-b6cf-01074bab4c50",
   "metadata": {},
   "source": [
    "# _Backpropagation_"
   ]
  },
  {
   "cell_type": "code",
   "execution_count": 10,
   "id": "98acdbb0-b6cb-4b6b-aa81-a3b9f988df50",
   "metadata": {},
   "outputs": [
    {
     "name": "stdout",
     "output_type": "stream",
     "text": [
      "[0] Erro no treinamento: 0.2231067848395311\n",
      "[400] Erro no treinamento: 0.12216649511072789\n",
      "[800] Erro no treinamento: 0.11044226482055225\n",
      "[1200] Erro no treinamento: 0.09617972452136295\n",
      "[1600] Erro no treinamento: 0.07845279456567263\n",
      "[2000] Erro no treinamento: 0.05950111699038278\n",
      "[2400] Erro no treinamento: 0.04298967757343658\n",
      "[2800] Erro no treinamento: 0.030593649647125784\n",
      "[3200] Erro no treinamento: 0.02190896112167328\n",
      "[3600] Erro no treinamento: 0.015898555499024414\n",
      "[4000] Erro no treinamento: 0.011664666678954844\n",
      "[4400] Erro no treinamento: 0.008600533826495955\n",
      "[4800] Erro no treinamento: 0.006333591445777986\n",
      "[5200] Erro no treinamento: 0.004640417870376806\n",
      "[5600] Erro no treinamento: 0.0033798800813985754\n",
      "[6000] Erro no treinamento: 0.0024518161467579434\n",
      "[6400] Erro no treinamento: 0.0017775515196670956\n",
      "[6800] Erro no treinamento: 0.0012932139967475524\n",
      "[7200] Erro no treinamento: 0.0009478080778209457\n",
      "[7600] Erro no treinamento: 0.0007020473376750983\n",
      "[7999] Erro no treinamento: 0.0005271376970090927\n",
      "----------------------------------------\n"
     ]
    }
   ],
   "source": [
    "last_loss = None\n",
    "\n",
    "error_evolution = []\n",
    "error_index = []\n",
    "\n",
    "epochs = 8000\n",
    "\n",
    "for ep in range(epochs):\n",
    "    # inicializa deltas\n",
    "    \n",
    "    deltas = []\n",
    "    \n",
    "    for w in weights:\n",
    "        zeros = np.zeros(w.shape)\n",
    "        deltas.append(zeros.copy())\n",
    "        \n",
    "    # itera sobre o dataset de treinamento\n",
    "    \n",
    "    for xi, yi in zip(X_train.to_numpy(), y_train.to_numpy()):\n",
    "        \n",
    "        # passagem para frente\n",
    "        \n",
    "        outputs = []\n",
    "        \n",
    "        for i, _ in enumerate(layers[1:]): # descarta camada de entrada\n",
    "            if i == 0: # usar dados de entrada\n",
    "                dot = np.dot(xi, weights[i])\n",
    "            else:\n",
    "                dot = np.dot(outputs[-1], weights[i])\n",
    "\n",
    "            outputs.append(sigmoid(dot))\n",
    "        \n",
    "        # passagem para trás\n",
    "        \n",
    "        error_terms = deque()\n",
    "        \n",
    "        for i in range(len(layers)-1, 0, -1):\n",
    "            if i == len(layers)-1: # usar dados de saída\n",
    "                error = yi - outputs[-1]\n",
    "            else:\n",
    "                error = np.dot(weights[i], error_terms[0])\n",
    "                \n",
    "            error_term = error * outputs[i-1] * (1-outputs[i-1])\n",
    "            error_terms.appendleft(error_term.copy())\n",
    "            \n",
    "            if i == 1:\n",
    "                deltas[i-1] += error_term * xi.reshape(-1, 1)\n",
    "            else:\n",
    "                deltas[i-1] += error_term * outputs[i-2].reshape(-1, 1)\n",
    "                \n",
    "    # atualiza pesos\n",
    "    \n",
    "    for i, w in enumerate(weights):\n",
    "        weights[i] += (lr * deltas[i]) / n_records\n",
    "        \n",
    "    # calcula e coleta erro\n",
    "    \n",
    "    if ep % (epochs / 20) == 0:\n",
    "        loss = np.mean((outputs[-1] - yi) ** 2)\n",
    "\n",
    "        error_evolution.append(loss)\n",
    "        error_index.append(ep)\n",
    "\n",
    "        print(f\"[{ep}] Erro no treinamento: {loss}\", end=\"\")\n",
    "        if last_loss and loss > last_loss: print(\" (ERRO AUMENTANDO)\", end=\"\")\n",
    "        print()\n",
    "        last_loss = loss\n",
    "        \n",
    "# coleta erro final\n",
    "\n",
    "if (error_index[-1] != ep):\n",
    "    loss = np.mean((outputs[-1] - yi) ** 2)\n",
    "    \n",
    "    error_evolution.append(loss)\n",
    "    error_index.append(ep)\n",
    "    \n",
    "    print(f\"[{ep}] Erro no treinamento: {loss}\")\n",
    "        \n",
    "print(\"-\"*40)"
   ]
  },
  {
   "cell_type": "markdown",
   "id": "f0f6e3e9-cbba-43c6-9985-4fce3c8198e9",
   "metadata": {},
   "source": [
    "# Plotando a evolução do erro"
   ]
  },
  {
   "cell_type": "code",
   "execution_count": 11,
   "id": "11917fba-50c8-43d1-9587-4d66b6a14714",
   "metadata": {},
   "outputs": [
    {
     "data": {
      "image/png": "[encoded data removed]",
      "text/plain": [
       "<Figure size 432x288 with 1 Axes>"
      ]
     },
     "metadata": {
      "needs_background": "light"
     },
     "output_type": "display_data"
    }
   ],
   "source": [
    "plt.plot(error_index, error_evolution, color=\"red\")\n",
    "plt.xlabel(\"Época\")\n",
    "plt.ylabel(\"Erro\")\n",
    "plt.title(\"Evolução do erro do treinamento\")\n",
    "plt.show()"
   ]
  },
  {
   "cell_type": "markdown",
   "id": "93ac7382-fb6c-42e2-8d35-c7694fe56aaf",
   "metadata": {},
   "source": [
    "# Validando o modelo"
   ]
  },
  {
   "cell_type": "code",
   "execution_count": 12,
   "id": "9cd103f9-b3bf-4758-b554-f9ca95be617c",
   "metadata": {},
   "outputs": [
    {
     "name": "stdout",
     "output_type": "stream",
     "text": [
      "Acurácia do modelo: 0.920\n"
     ]
    }
   ],
   "source": [
    "n_records, n_features = X_test.shape\n",
    "\n",
    "positives = 0\n",
    "\n",
    "for xi, yi in zip(X_test.values, y_test.values):\n",
    "    # passagem para frente\n",
    "    \n",
    "    outputs = []\n",
    "        \n",
    "    for i, _ in enumerate(layers[1:]): # descarta camada de entrada\n",
    "        if i == 0: # usar dados de entrada\n",
    "            dot = np.dot(xi, weights[i])\n",
    "        else:\n",
    "            dot = np.dot(outputs[-1], weights[i])\n",
    "\n",
    "        outputs.append(sigmoid(dot))\n",
    "        \n",
    "    output = outputs[-1]\n",
    "    \n",
    "    # compara predição com resultado esperado\n",
    "    \n",
    "    if (output[0] > output[1] and yi[0] > yi[1]\n",
    "        or output[0] < output[1] and yi[0] < yi[1]):\n",
    "        positives += 1\n",
    "    \n",
    "# calcula acurácia do modelo\n",
    "\n",
    "accuracy = positives / n_records\n",
    "print(\"Acurácia do modelo: {:.3f}\".format(accuracy))"
   ]
  },
  {
   "cell_type": "code",
   "execution_count": null,
   "id": "07aafd20",
   "metadata": {},
   "outputs": [],
   "source": []
  },
  {
   "cell_type": "code",
   "execution_count": null,
   "id": "029da2ea",
   "metadata": {},
   "outputs": [],
   "source": []
  },
  {
   "cell_type": "code",
   "execution_count": null,
   "id": "030ecc8d",
   "metadata": {},
   "outputs": [],
   "source": []
  },
  {
   "cell_type": "code",
   "execution_count": null,
   "id": "9ce6f1fc",
   "metadata": {},
   "outputs": [],
   "source": []
  },
  {
   "cell_type": "code",
   "execution_count": null,
   "id": "a3ce9470",
   "metadata": {},
   "outputs": [],
   "source": []
  },
  {
   "cell_type": "code",
   "execution_count": null,
   "id": "c8b5e2f7",
   "metadata": {},
   "outputs": [],
   "source": []
  }
 ],
 "metadata": {
  "kernelspec": {
   "display_name": "Python 3",
   "language": "python",
   "name": "python3"
  },
  "language_info": {
   "codemirror_mode": {
    "name": "ipython",
    "version": 3
   },
   "file_extension": ".py",
   "mimetype": "text/x-python",
   "name": "python",
   "nbconvert_exporter": "python",
   "pygments_lexer": "ipython3",
   "version": "3.8.10"
  }
 },
 "nbformat": 4,
 "nbformat_minor": 5
}
